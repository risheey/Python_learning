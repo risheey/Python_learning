{
 "cells": [
  {
   "cell_type": "code",
   "execution_count": 9,
   "metadata": {},
   "outputs": [
    {
     "name": "stdout",
     "output_type": "stream",
     "text": [
      "18\n"
     ]
    }
   ],
   "source": [
    "# 5/05/18\n",
    "# Array basics \n",
    "\n",
    "numbers = [12,14,18,15,17]\n",
    "print(numbers[2])\n"
   ]
  },
  {
   "cell_type": "code",
   "execution_count": 15,
   "metadata": {},
   "outputs": [
    {
     "name": "stdout",
     "output_type": "stream",
     "text": [
      "[12, 14, 18, 15, 17, 12, 14, 18, 12, 14, 18, 15, 12, 14, 18, 15, 12, 14, 18, 15]\n"
     ]
    }
   ],
   "source": [
    "# 5/05/18\n",
    "# adding values to an array \n",
    "\n",
    "numbers = numbers+numbers[:4]  # [:4] denotes upto 4th position in the array \n",
    "print(numbers)\n"
   ]
  },
  {
   "cell_type": "code",
   "execution_count": 26,
   "metadata": {},
   "outputs": [
    {
     "name": "stdout",
     "output_type": "stream",
     "text": [
      "24\n"
     ]
    }
   ],
   "source": [
    "# 5/05/18\n",
    "# using several parameters in a function \n",
    "\n",
    "def mult(*several):              # * in (*several) represents several parameters can be used\n",
    "    count = 1\n",
    "    for x in several:\n",
    "        count = count * x\n",
    "    print(count)\n",
    "\n",
    "mult(2, 4, 3)"
   ]
  },
  {
   "cell_type": "code",
   "execution_count": 29,
   "metadata": {},
   "outputs": [
    {
     "name": "stdout",
     "output_type": "stream",
     "text": [
      "92.0\n",
      "92.0\n"
     ]
    }
   ],
   "source": [
    "# 5/05/18\n",
    "# using several parameters in a function through an array\n",
    "\n",
    "def calc(age, excercise, junk):\n",
    "    health = (100-age)+(2*excercise)-(0.1*junk)\n",
    "    print(health)\n",
    "    \n",
    "Rishi = [28, 30, 400]\n",
    "\n",
    "calc(Rishi[0],Rishi[1],Rishi[2])\n",
    "\n",
    "calc(*Rishi)\n",
    "    "
   ]
  },
  {
   "cell_type": "code",
   "execution_count": 1,
   "metadata": {},
   "outputs": [
    {
     "data": {
      "text/plain": [
       "<matplotlib.figure.Figure at 0x13bfa1141d0>"
      ]
     },
     "metadata": {},
     "output_type": "display_data"
    }
   ],
   "source": [
    "# 5/08/18\n",
    "# download image from url and plot.\n",
    "\n",
    "import random\n",
    "import urllib.request\n",
    "import matplotlib.pyplot as plt\n",
    "import matplotlib.image as mpimg\n",
    "\n",
    "\n",
    "def downloadinganimage(url):\n",
    "    name = random.randrange(1, 100)\n",
    "    fullname = str(name) + \".jpg\"\n",
    "    urllib.request.urlretrieve(url, fullname)\n",
    "    img = mpimg.imread(fullname)\n",
    "    imgplot = plt.imshow(img)\n",
    "    plt.show()\n",
    "\n",
    "    \n",
    "downloadinganimage(\"data:image/jpeg;base64,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\")"
   ]
  },
  {
   "cell_type": "code",
   "execution_count": 15,
   "metadata": {},
   "outputs": [],
   "source": [
    "# 5/10/18\n",
    "# download .csv from url and sort and store in local directory\n",
    "\n",
    "from urllib import request\n",
    "\n",
    "\n",
    "url = 'http://samplecsvs.s3.amazonaws.com/Sacramentorealestatetransactions.csv'\n",
    "\n",
    "def downloadurl(csv_url):\n",
    "    response = request.urlopen(csv_url)     # connecting to the url and storing it to name response \n",
    "    \n",
    "    csv = response.read()                   # read the url\n",
    "    csv_str = str(csv)                      # convert to string and store it as csv_str  \n",
    "    \n",
    "    lines = csv_str.split(\" \")              # split the chunk of data for every \" \" character in it\n",
    "    dest_url = r'url.txt'                   # variable dest_url is created to save the file path for url.txt \n",
    "                                                # The r'..' string modifier causes the '..' string to be interpreted literally. \n",
    "                                                # That means, r'My\\Path\\Without\\Escaping' will evaluate to 'My\\Path\\Without\\Escaping' - without causing the backslash to escape characters. \n",
    "                                                # The prior is equivalent to 'My\\\\Path\\\\Without\\\\Escaping' string, but without the raw modifier.\n",
    "    \n",
    "    fx = open(dest_url, \"w\")                # open file dest_url and enable write command\n",
    "    \n",
    "    for line in lines:                      # use \"for\" loop to insert lines into the file.\n",
    "        fx.write(line + \"\\n\")               \n",
    "    fx.close()                              # close the file to stop the thread processing in the background\n",
    "    \n",
    "downloadurl(url)\n",
    "        \n"
   ]
  },
  {
   "cell_type": "code",
   "execution_count": 16,
   "metadata": {},
   "outputs": [
    {
     "name": "stderr",
     "output_type": "stream",
     "text": [
      "C:\\Users\\rishi\\Anaconda3\\lib\\site-packages\\bs4\\__init__.py:181: UserWarning: No parser was explicitly specified, so I'm using the best available HTML parser for this system (\"lxml\"). This usually isn't a problem, but if you run this code on another system, or in a different virtual environment, it may use a different parser and behave differently.\n",
      "\n",
      "The code that caused this warning is on line 193 of the file C:\\Users\\rishi\\Anaconda3\\lib\\runpy.py. To get rid of this warning, change code that looks like this:\n",
      "\n",
      " BeautifulSoup(YOUR_MARKUP})\n",
      "\n",
      "to this:\n",
      "\n",
      " BeautifulSoup(YOUR_MARKUP, \"lxml\")\n",
      "\n",
      "  markup_type=markup_type))\n"
     ]
    },
    {
     "name": "stdout",
     "output_type": "stream",
     "text": [
      "https://www.ebay.com/itm/Southpole-Jeans-4180-Mens-Relaxed-Fit-Medium-Wash-34x32-Denim/253616639104?epid=16019269793&hash=item3b0cbacc80:g:uqcAAOSwcTRa9bqa\n",
      "ten4buddy\n",
      "https://www.ebay.com/itm/SOUTHPOLE-MENS-JEAN-RELAXED-FIT-4180-2125-RINSE-INDIGO-Waist-29-42-Available/302396721823?epid=1912449332&hash=item46683fca9f:m:m_lQYxwlZSvGeG9WuunoSqw\n",
      "akang_mrch\n",
      "akang_mrch\n",
      "https://www.ebay.com/itm/SOUTHPOLE-MENS-CARGO-SHORTS-CAMOUFLAGE-GREY-BLACK-STYLE-9001-3345-Waist-32-42/292162552275?epid=1159173800&hash=item44063ec1d3:m:mLuqjDbDVpEexqN2Q1lBLZA\n",
      "akang_mrch\n",
      "akang_mrch\n",
      "https://pulsar.ebay.com/plsr/clk/0/SADS/9?pld=%7B%22mecs%22%3A%2216303057225085edd13b6b3d4a56abe4826761f34e60%22%2C%22enc%22%3A%22AQACAAACwECrdTMMjTK3cnadl0AMuL0OOKnEjDKdB3oMnVCubYvbSCaVD554dNQPQdw8hLanOK18hAAhRC6OGvzQOcwWCmuoKqVx9amSTRTlp%2FC51UUDTAz4o9ByYUwjY%2BexYAPHoEWCPoBgCUT%2BFQoUCG%2FvU1yeZ%2Fc%2FOccprbx5L6nGz%2BIyfcpVsVpGVvMiyaDVz6vFPKzHvGkh03V1HYT9spoz%2B7sTdqnPEp%2BFTmWCaN9%2BQ5ohXyJxQ%2F%2Fe%2Bo%2BXt3xkiEWrDHWI0KMCxwGUgqxaR%2Fpa%2Ffgtuic3LotZNtc24IOMKWvPVCI1lZPCLS%2BokDTd2zvDj0vZ8TK%2BE%2Flt9OMpHfpRCRMnYQ0ITtxtjwpUvQfuvppngQbMhJaZcfbQSAlSwEseS1zAIN2aWVp9vHhz1d4ZUFnkNgR%2Bz%2BUnSt9LhpQ%2BoCXoIwSxdvG%2Ft1lzJUG1i1EpWjD5PCIRelGaAEkiLFe4HnxEnf0rG%2F0ml7uqC%2BXN3GhZGYS8pLz4WiIU5gDKAQ6qRULXGqK%2B9EUcoAATZAsHrUkLo2Vd0ocVlwajNjicwKnvmc%2FtWSZx%2F0D0fLHuODiQNpOcA9klE367T%2BHryCnB8JJmSyyu6dM71CJyVLrdsKUvvJt4pOvWJ1tNYJbnZ4fiWOy5V5H0w%2FKfpvUUYmpNGlsyMbbxS0fa4QOP7g8FAxjZpVz4qmF3JpG3cpiAd7C%2Bc83PN6R9owoVH%2Fmdivl9N4IXrjPLyX1CCLYUeFxhQGkvcJMjUm8IpsQ522MK43KmyLSj0ku5pcftN0sIBtxxVla8XmUKUH6s7uHK%2BC7IiOu%2B9vJ8RiLw1o32qn%2Fb%2BcdNJrYouT4kWyE%2Bp80OET%2FBD2s%2BxVzoLJ21fnGH8juqA3bl20A7oWFURJAALzR8GJnzuHUfIfCPq2m8X8jD0GXOAs8j2Bh4j%2B5Bgu371AHONgc%2B%22%7D\n",
      "https://pulsar.ebay.com/plsr/clk/0/SADS/9?pld=%7B%22mecs%22%3A%2228293275782606aa413352394367b270fdf0f96bcaa3%22%2C%22enc%22%3A%22AQACAAACsECrdTMMjTK3cnadl0AMuL35dyukSV9DMIC2x1vK18V8yDJ6jhfbv3lKQJ%2BIxFLnxExHmr05YO6WN7t8kIVDsfJqDKXWI9qLAcJT5Fd1FcqdWqHr%2BJxBf91uYt8saOVRHdNuYCy0cw%2BMlvlBK%2Fq7jXFr3qBFZbD74y2YpjjCFVKnKymGyFRjFEFzrEXBXvBrT8LH0I2%2FxvHN47fFBt4ybnjK3%2FyRkp5mbJPeg92FquCWQez21%2FEH%2BD%2F8zrJZfyYNsl6zVnKvZ%2B%2BAJXDnIJJGeL6O4yqBVcMpUnR4aDejuw8Wfl7g4aWoVlQAdLa%2FQjNrf4GspaBxUFLWoDLWQ59AXB39SvxB9Hh%2B%2Bwh2Dg1wTPoD%2FevtiYqGRexXKE06EFFP6v5e7vPVXA6Lyf975PF996M%2F4P1pnQ2qiBGrvXojQw9doMKNAnBIasLYptlFPJByGVJgkJD5SCXK57j9gPBPVIGCB%2BCHI%2FzNqS9VrpzwsJkPzKIGDjZ4%2BreL%2BdRo8WnS95vvKnvXdXsT5R3QIUjJdT5pP6NqmwUime8S3%2FedPST%2Bs5tDfjHDKw1pT%2B5JDy%2F2%2F%2Fln5YKs6fk%2FfPVnN2WnC%2Fla1jwK9vcR68Uyd5plDPxItkfFusWuQnrnSLUICytV2bVCrNzDnPPmM3g4AWpBBnRYCzFxdU5EuwqWho0Ww33PYBAbiwvGbULqXbb26CIddI%2F6bV%2FwhyNi1jCUHbjgF5E%2BDQvC7%2BYty4F5OUCuDHekhE4eM9xhbglOISS1i7O8pe0gWAQ9IpBRXKJuvEqSoaRsAcPEv0u2BTZZGolW%2F2NBUXsU60Epbt%2Fv6C6%2BF2UwXgQVtMmneZlv0KqBD5HuX4TOdhCdH%2B429ucYPurO6WpkJq0Q%2BG2J5ZGch56j0uDhF3TbopFpEk5QL%2FCLrkRw9j4%3D%22%7D\n",
      "https://www.ebay.com/itm/men-SOUTHPOLE-BIKER-SHORTS-SLIM-FIT-RIPPED-SHORTS-VINTAGE-17121-30-42/142363234604?hash=item212582912c:m:mSr0YUGSoZBpH93wYRJd7jw\n",
      "basics-2012\n",
      "basics-2012\n",
      "https://www.ebay.com/itm/SOUTHPOLE-MENS-JEAN-RELAXED-FIT-4180-LIGHT-SAND-BLUE-Waist-29-42-Available/300907717168?epid=1655423135&hash=item460f7f6230:m:mjg9v531JIdV7QSrhSioqfg\n",
      "akang_mrch\n",
      "akang_mrch\n",
      "https://www.ebay.com/itm/Mens-SOUTHPOLE-royal-blue-red-black-white-3-4-joggers-shorts-style-15121/291432828431?hash=item43dac00e0f:m:mWjF2uCzMEwYPTmOeURKEjg\n",
      "bal4902\n",
      "https://www.ebay.com/itm/MEN-JOGGERS-PANTS-CASUAL-CARGO-POCKET-PANTS-SOUTHPOLE-RIPSTOP-FABRIC-SIZE-S-3XL/163010033323?hash=item25f427b6ab:m:mMHkFRlfebJEbhPuPQeLeOQ\n",
      "nobleman-fashion\n",
      "https://www.ebay.com/itm/MENS-SOUTHPOLE-CARGO-SHORTS-BASIC-BELTED-SHORT-9001-3341/131862808929?epid=1870618916&hash=item1eb3a2c961:m:mROhm6xjmjEUdT8hYSWffKg\n",
      "genxclothing\n",
      "genxclothing\n",
      "https://www.ebay.com/itm/MEN-JEANS-BIG-AND-TALL-SLIM-STRETCH-FIT-SLIM-STRAIGHT-FIT-TROUSERS-RIPPED-PANTS/163027967956?hash=item25f5395fd4:m:moX4w7dLz3Zg-F6rHGab29g\n",
      "nobleman-fashion\n",
      "https://www.ebay.com/itm/Southpole-Bomber-Jacket-Mens-Size-Large/253597760465?hash=item3b0b9abbd1:g:T~0AAOSwDtVaulXD\n",
      "nyzlee14\n",
      "https://www.ebay.com/itm/MENS-BIG-AND-TALL-HIPSTER-TECHNO-TRACK-PANTS-WITH-SIDE-COLOR-STRIPE-PANTS/163034376942?hash=item25f59b2aee:m:m3TYOuP3tFzKxF_mb13GuIw\n",
      "nobleman-fashion\n",
      "https://www.ebay.com/itm/SOUTHPOLE-4180-1043-Mens-Relaxed-Fit-Denim-Jean-SHORTS-Dark-Sand-Blue-BLACK/142407865808?hash=item21282b95d0:m:m4SVtUl8LNxpw5zabPSPTTg\n",
      "basics-2012\n",
      "basics-2012\n",
      "https://pulsar.ebay.com/plsr/clk/0/SADS/9?pld=%7B%22mecs%22%3A%2225175738451120ae447f4dfb40a487852f2d4db67d71%22%2C%22enc%22%3A%22AQACAAACsECrdTMMjTK3cnadl0AMuL3OoK%2Bj%2BrCzEdr%2BXKAtKMXa3Gu%2FyFjSlPj962GTATMxhSFB2O8ZK1k0%2B33z%2BngxoSTUp0NYDQCPkS%2BwK1G7ESMijKA0ct3y3fiezcqlwGLDZ6yZTTOGnzIYR35tBheABcU%2FcbPpsm420ZcMnNXocUvzaRzcyU7KRsvgSMKlZOxqZJSJhXGGpLJ%2B2YeMp5OhTfIchY7um4Wmfcy8klcGeo7s%2F7fZA8S0nycpMqfEwr2mZT7zGKD4yCsorOGsj1TaLWiOUzNaYE5pq%2BGVMLIHJQ9qVs27ukwOa7g1JKaefopkWFue1BjU0q77Bv04ThxszYX3WhW0kPpAF%2BlNsK6S45J%2BK7IBEGUgaB0DT4lyTf%2BqiUgPfIZXbEz8pXlSlPDrxA%2Btp875MDro4KU1e%2FjMMIBfgRpy%2F6zktVczBOqLMrprImWJwwnuC2DV%2B4l6q3ybJiqjCRHNEBznuivJ%2BpN9d2SscEEDHXLkf47myK3Z6TR20VYgXo%2FG2w%2FE0UcBjDoSsEpyh7kOaO7p%2F5OZaZziv1TfYDaWkfffqC4eQiFqNVAPABNCkwZVNEf3bxmRSmuaoPw0iOqLyG9DAcJFvxLDkg5fesPVeEUa%2BScKRnrqxduaXzTb8juJQFzryFawYo4DfkndmIhQtPO5J0ntVpxbqB1yElig8Lw%2FvGh%2FHEqr5RJ2LQ60aQZNRclIgWg7uqGBile2CJ8Xc%2B7ksZoosP4EOXR4zAMfReHOQokXyTmCecdKl%2BzOzBGnuV48OIEZCPdOTGaUFC%2FJwd2FbkS9TF32TlQ3dzpF4YWBY64w2KQabB%2FH6L1%2F65rMXfpD0yMbvX7QRJ7FZTRL6RHSb1wYorhNCB00jj9TSbH4lYIk74u8cy1cb5ykwd1SqALCp61EwThsC%2BY%3D%22%7D\n",
      "https://pulsar.ebay.com/plsr/clk/0/SADS/9?pld=%7B%22mecs%22%3A%222731991050581819f3491a334d9580a7f41e39016505%22%2C%22enc%22%3A%22AQACAAACsECrdTMMjTK3cnadl0AMuL3F24tFtFQ6%2F%2FsI2newYWWBPEjFv6dCPnB4OF%2BEUdrUuC56xgR7WSXaK8yczhU%2BaUU26zrNm5aVz6soNh%2FQpXbHaaVxbL6pG0nRtnyrb6Z2uay2bw8ra46WDUaBdMwkGWPwBo0ifP%2FXR7fBMwwam%2F40DK758W8jx2ZOKKY00ynL8Q5eTbZhQLmDNmsf7d8Ng0LXiosGxD%2FHf1hZezRZOEULW%2B7GrID1BxxuLuLsVBjdW7Xwz3JTSeNSe2HK0Cnk%2B65m1TebstOxGt%2BKXdsf6%2B7WZICWkO%2FSDEvPAHr25QSP5bRtKs%2F5wImZCX1vlzj5eY8TSbXcfY32tM4w62pj%2BrR2krYj5MtD%2BMoKb8EPrQyIfzCFKnXv9gdDb45%2B%2F515fbekQi4EEoKRamNEsVItHqN1e5LcBR7T%2Fts2yxIx2orSClGRcWsdn6%2F%2Fd6pZfHWs1FFhmjLyI%2BYann7CsNJIBMkksweg2l077BU%2FEJ4RW77kwu%2BM%2BnYN1%2FvWZ7rFdGdwPn5pbicBl%2BiZ%2Fe8EUJtyO34HzcmNSTbnXhg7fXKq73Ips9znMV2J0FD9YMuckVrjpXdyFMyXXSsNnVWO%2FFfH%2FNrRQsJiZJH5SNu2NarKp7QRVLp2ymmXNTugFJ1%2BdA%2BzyZXNMYT8wWUEn2ZuIWwiuhh3S5e0N%2FE%2B13a6H9lrmuFkSayTebwEl9VTL7HQ9BepJNjO9F3gj3aTWHpCdBJVh7XVw10zlWIE5KXBBhTE5lu4E5CD%2FwAgHvFT%2FXo8oMaI7GOKb7An6DwZAQXvWm9l5emT%2BtTxEbpt4ry6okV1xjgztiNsCVWZI6vRRPjINR47X9cQ4wZcCPdbawwnzrh0DupEqVUfK83x75ShLYH8U72iPGcKjF0CBn2zz2s1mFkX%2BJQ%3D%22%7D\n",
      "https://www.ebay.com/itm/SOUTH-POLE-MEN-HIPSTER-ACTIVE-FLEECE-BASIC-JOGGER-PANTS/161929835027?hash=item25b3c53213:m:mchuS752TbMU8Bop9xOJ7Lw\n",
      "nobleman-fashion\n",
      "https://www.ebay.com/itm/SOUTHPOLE-MENS-BIG-AND-TALL-BLACK-GRAPHIC-TEE-STYLE-17127-1033-3XB-6XB/292221753586?hash=item4409c618f2:m:mmGCzqrK9qFVyoslQ5Za8hA\n",
      "akang_mrch\n",
      "akang_mrch\n",
      "https://www.ebay.com/itm/SOUTHPOLE-MENS-JEAN-RELAXED-FIT-4180-2146-RAW-BLACK-SAND/301484467058?epid=1258254368&hash=item4631dfe372:m:mcqpF3D5FgxkMLDhJyc0mDA\n",
      "akang_mrch\n",
      "akang_mrch\n",
      "https://www.ebay.com/itm/Southpole-Mens-Blue-Jean-Shorts-SZ-36-Denim-14-5-Inseam/123121183607?hash=item1caa982b77:g:4IoAAOSwW4xax85l\n",
      "tammie4004\n",
      "https://www.ebay.com/itm/Mens-SOUTHPOLE-Straight-Leg-Fit-Jeans-Size-36-x-30-BRAND-NEW/123117087158?hash=item1caa59a9b6:g:fnoAAOSwOPta7huz\n",
      "sanders_inc_llc\n",
      "https://www.ebay.com/itm/SOUTHPOLE-Mens-BIKER-Moto-Distressed-Denim-Shorts-NWT-Dark-Sand-Blue-18121-3202/232708961221?hash=item362e88f3c5:m:mv3tO6auj438bP9FP-gz8Kg\n",
      "1995procastinator\n",
      "https://www.ebay.com/itm/Mens-SouthPole-Basic-Sandblast-Washed-Relaxed-Straight-Fit-Jeans-4180/131911821376?epid=1680699191&hash=item1eb68ea840:m:mBUoBd8rIRV1XFS_6oBymqg\n",
      "genxclothing\n",
      "genxclothing\n",
      "https://pulsar.ebay.com/plsr/clk/0/SADS/9?pld=%7B%22mecs%22%3A%2218206915195132c382611ee44aeeb451be7039b6e333%22%2C%22enc%22%3A%22AQACAAACsECrdTMMjTK3cnadl0AMuL21hgypaKHQIb3FqBmVW0iXNxCqqs%2FVWxuJDhuLT20X1hBuDraVlSNEhdDBuIaggRC7XoFS9BDsyBV%2F8p4qjtAphR%2B9LbwL%2FwpyI5rwouYdziZR0izJSkI%2BZlpMxtCkbBY7asMf7DQkKVdNyc4QBVLTsVNx%2B2eG2kzUlrpq6W6%2BnfNs7Iod7klCkYTSlHBO23eGHXs2ORYEhLFfsrRKDkLyCZCG3Ctg5sLVyg3BI4icg8GhnFfglCrUTWP0INHumB51YetV6809kOWw0xaUlJLkRU4ljeUXXx%2F44Nt5I4PYFl8oiuOvI17Cgv9v9rcKFo0yT7um2Hbz56OzlRSfBuqeuFYoRJ7XRNAN%2B1KLasIWx4V%2F6h2v%2FHtMOOFes0qQZUr%2BAhY9jAl46GkU22g03%2BAYp8m1YmfacYMYnqTsnzfaWtN6KwxIpAu22fmcLtWKNmB8j1kuG0%2Ft7nEZINkoabS3r2iKZptNq2blDelCRtLaF4DjKA9Poi4Ts1%2FemDJ7Ww062FhF02u43BcqF9exYpCWnvmp2t%2FthqgQBPi4s%2Bk7vKgWhqYDtKfZFU7A0gMnFrESE1GQE5QjkEjr07sfRFr3qx1A5V85eb%2BcrVvKGE91fUtOJa7rRS6zjfODONZnMGspSIeUoukX2rqElLnCETpZG1XAVi%2B5g1Up7QvbyY8StDQc464LuqVw4gfKtR016f7yBP2jLgC81xjFH%2BSeF3nQEWASdtlTETtdJXLoIhiVkP23O1uZk7X3uHSEvEcXKGIwoKSbhED8QtFkANZmYFvyGjs%2Ft26A5KHGR1W0hsv%2Bo8alpOY3mVDk8kPbFg6LZdA4LG62RNgSHWIT5Y2LAVCNNQ2KQDWba6OCQrx12MxwjnLztQgeJppeb5Cr%2BpMAXLo%3D%22%7D\n"
     ]
    },
    {
     "name": "stdout",
     "output_type": "stream",
     "text": [
      "https://pulsar.ebay.com/plsr/clk/0/SADS/9?pld=%7B%22mecs%22%3A%22192197309211d84ae512633949df9360030765d214b4%22%2C%22enc%22%3A%22AQACAAACwECrdTMMjTK3cnadl0AMuL1zxf3omHvAV9XKn6ZzibEsiDJhuldVZEVohT4yPYz4y1LpmcsVaQ55hauY1ugSlwK7WAUtOI4tzpPsoYUJFyV3mekJfl%2Fqr7ZZrXap9U4jmYMlW7QZkzesMWCX%2ByLQZvSOLCpq%2FXPOHEusfKNKxhOAzMowkruFM7F4sAvzfWCbr2ahAR5kmg1h0NUyRQ2YcMPNaiUQOHaY5n%2BdLqF0a0qrKf2rcpSkFqggYX6Tmz%2F4IEBCQqTHSUO9C3pL%2Fw748t35g14uvfiPxKesF%2FExL7S3X1HTJxAdzSgxZ6XXMjxKpbK12zN3neGstQzrG3jA93j8yEfYQGpcdGWcEM89JKr4AIxK%2Byyl%2BWRAN797mXD%2FaLYxOudEa2xJU5nBfdiL5fDj8hEZate4skrMDwnkHsZjlCz7uEzTkPaJKjHbN8Jac4X5xWEpZCZOet3biHIBzIdlw%2F3HXoEPCiYLisnrWY%2F4WS2JRfUkOpiT6m7H86T24eb2M0PKPS0rMU6ezDehx7dG7FK41MA3ro78ak93IumX5QOhFpdQgvAOIrp%2F3Mw%2Fc%2Fjj1EU7BbOnmVvygEeKhDdLPetrjMP7phHH0rmUNH96PLI2PEa3kg8PQpTFkwi5uvBGn%2FlSpkUdGcWLrnwO%2B6U2qb8hKpwcwSUjifjB7iWjbMAN05x5DFd93AYkqwc57HOboEEuRX2KbmKEOYApGEnZZK49GqG3jOASFV0blDzBhF9VarU8KfKToFZeTpAkHlreV21rmeluEsHc%2F%2FWhf6xYMUqlapqK64C5IG%2Bt0TdfWxRqBh%2B7pzztRXcJiPUpz4oCLnzDwcCJAuYzk2aSGDgtRK6hIWF%2BdrlmjRcFcenzJu93NgzCa6q3VSdgr9Xy%2BTn%2F4I0luQTm1Qz5wbVwXyANbO2G58LLHUDN7GOJZ4%2Fm%22%7D\n",
      "https://www.ebay.com/itm/NWT-Southpole-Mens-Multi-Color-Tan-Plaid-Long-Length-16-Inseam-Shorts-Size-32/222970018090?hash=item33ea0c792a:g:3EsAAOSwklJa8MOg\n",
      "pwoodrum123\n",
      "https://www.ebay.com/itm/Mens-WT02-SOUTHPOLE-Skinny-Slim-Fit-Strech-Jeans-Denim-Blue-Black-Jeans-SEE-BACK/123009820195?hash=item1ca3f4e623:m:mGBG5__aptJFmrSdIrqeW-g\n",
      "fashionkingny\n",
      "fashionkingny\n",
      "https://www.ebay.com/itm/SouthPole-SP-Active-Active-Basic-Solid-Jogger-Shorts/162513940375?hash=item25d695ef97:m:mh8mVEU3swcJibzLqSHLw6w\n",
      "luxforyou\n",
      "luxforyou\n",
      "https://www.ebay.com/itm/Southpole-Mens-Carpenter-Denim-Jean-Shorts-Size-50-AP106/282960403270?hash=item41e1c11b46:g:pakAAOSwruVa9HpU\n",
      "pamalamarie72\n",
      "pamalamarie72\n",
      "https://www.ebay.com/itm/SOUTHPOLE-Mens-Size-38-Denim-Jeans-Shorts-RN82628-SOUTH-POLE-logo-38x15/163040681197?hash=item25f5fb5ced:g:Oq0AAOSwI4xa85CB\n",
      "myrandafarris7\n",
      "https://www.ebay.com/itm/BIG-AND-TALL-SOUTH-POLE-MEN-ACTIVE-FLEECE-BASIC-JOGGER-PANTS/162132674807?hash=item25bfdc48f7:m:mdbxgB_x-wfXZC6hONCI6cg\n",
      "nobleman-fashion\n",
      "https://www.ebay.com/itm/Southpole-Jeans-4180-Mens-Relaxed-Fit-Dark-Wash-34x32-Denim/253616974169?epid=16019269793&hash=item3b0cbfe959:g:9zAAAOSwj-Ba9fen\n",
      "ten4buddy\n",
      "https://www.ebay.com/itm/Southpole-Mens-Size-30-34-36-38-Olive-Green-Belted-Ripstop-Cargo-Shorts-New/253356137957?epid=1266782697&hash=item3afd33dde5:m:m9D7UKMNUiMaFn5rQaYnmUg\n"
     ]
    },
    {
     "ename": "KeyboardInterrupt",
     "evalue": "",
     "output_type": "error",
     "traceback": [
      "\u001b[1;31m---------------------------------------------------------------------------\u001b[0m",
      "\u001b[1;31mTypeError\u001b[0m                                 Traceback (most recent call last)",
      "\u001b[1;32m~\\Anaconda3\\lib\\site-packages\\urllib3\\connectionpool.py\u001b[0m in \u001b[0;36m_make_request\u001b[1;34m(self, conn, method, url, timeout, chunked, **httplib_request_kw)\u001b[0m\n\u001b[0;32m    379\u001b[0m             \u001b[1;32mtry\u001b[0m\u001b[1;33m:\u001b[0m  \u001b[1;31m# Python 2.7, use buffering of HTTP responses\u001b[0m\u001b[1;33m\u001b[0m\u001b[0m\n\u001b[1;32m--> 380\u001b[1;33m                 \u001b[0mhttplib_response\u001b[0m \u001b[1;33m=\u001b[0m \u001b[0mconn\u001b[0m\u001b[1;33m.\u001b[0m\u001b[0mgetresponse\u001b[0m\u001b[1;33m(\u001b[0m\u001b[0mbuffering\u001b[0m\u001b[1;33m=\u001b[0m\u001b[1;32mTrue\u001b[0m\u001b[1;33m)\u001b[0m\u001b[1;33m\u001b[0m\u001b[0m\n\u001b[0m\u001b[0;32m    381\u001b[0m             \u001b[1;32mexcept\u001b[0m \u001b[0mTypeError\u001b[0m\u001b[1;33m:\u001b[0m  \u001b[1;31m# Python 2.6 and older, Python 3\u001b[0m\u001b[1;33m\u001b[0m\u001b[0m\n",
      "\u001b[1;31mTypeError\u001b[0m: getresponse() got an unexpected keyword argument 'buffering'",
      "\nDuring handling of the above exception, another exception occurred:\n",
      "\u001b[1;31mKeyboardInterrupt\u001b[0m                         Traceback (most recent call last)",
      "\u001b[1;32m<ipython-input-16-7031f470a8af>\u001b[0m in \u001b[0;36m<module>\u001b[1;34m()\u001b[0m\n\u001b[0;32m     28\u001b[0m \u001b[1;33m\u001b[0m\u001b[0m\n\u001b[0;32m     29\u001b[0m \u001b[1;33m\u001b[0m\u001b[0m\n\u001b[1;32m---> 30\u001b[1;33m \u001b[0mspyder\u001b[0m\u001b[1;33m(\u001b[0m\u001b[1;36m1\u001b[0m\u001b[1;33m)\u001b[0m\u001b[1;33m\u001b[0m\u001b[0m\n\u001b[0m",
      "\u001b[1;32m<ipython-input-16-7031f470a8af>\u001b[0m in \u001b[0;36mspyder\u001b[1;34m(max_pages)\u001b[0m\n\u001b[0;32m     15\u001b[0m             \u001b[0mhref\u001b[0m \u001b[1;33m=\u001b[0m \u001b[0mlink\u001b[0m\u001b[1;33m.\u001b[0m\u001b[0mget\u001b[0m\u001b[1;33m(\u001b[0m\u001b[1;34m'href'\u001b[0m\u001b[1;33m)\u001b[0m\u001b[1;33m\u001b[0m\u001b[0m\n\u001b[0;32m     16\u001b[0m             \u001b[0mprint\u001b[0m\u001b[1;33m(\u001b[0m\u001b[0mhref\u001b[0m\u001b[1;33m)\u001b[0m\u001b[1;33m\u001b[0m\u001b[0m\n\u001b[1;32m---> 17\u001b[1;33m             \u001b[0mgetdata\u001b[0m\u001b[1;33m(\u001b[0m\u001b[0mhref\u001b[0m\u001b[1;33m)\u001b[0m\u001b[1;33m\u001b[0m\u001b[0m\n\u001b[0m\u001b[0;32m     18\u001b[0m \u001b[1;33m\u001b[0m\u001b[0m\n\u001b[0;32m     19\u001b[0m \u001b[1;33m\u001b[0m\u001b[0m\n",
      "\u001b[1;32m<ipython-input-16-7031f470a8af>\u001b[0m in \u001b[0;36mgetdata\u001b[1;34m(item_url)\u001b[0m\n\u001b[0;32m     19\u001b[0m \u001b[1;33m\u001b[0m\u001b[0m\n\u001b[0;32m     20\u001b[0m \u001b[1;32mdef\u001b[0m \u001b[0mgetdata\u001b[0m\u001b[1;33m(\u001b[0m\u001b[0mitem_url\u001b[0m\u001b[1;33m)\u001b[0m\u001b[1;33m:\u001b[0m\u001b[1;33m\u001b[0m\u001b[0m\n\u001b[1;32m---> 21\u001b[1;33m     \u001b[0msource_code\u001b[0m \u001b[1;33m=\u001b[0m \u001b[0mrequests\u001b[0m\u001b[1;33m.\u001b[0m\u001b[0mget\u001b[0m\u001b[1;33m(\u001b[0m\u001b[0mitem_url\u001b[0m\u001b[1;33m)\u001b[0m\u001b[1;33m\u001b[0m\u001b[0m\n\u001b[0m\u001b[0;32m     22\u001b[0m     \u001b[0mplain_text\u001b[0m \u001b[1;33m=\u001b[0m \u001b[0msource_code\u001b[0m\u001b[1;33m.\u001b[0m\u001b[0mtext\u001b[0m\u001b[1;33m\u001b[0m\u001b[0m\n\u001b[0;32m     23\u001b[0m     \u001b[0msoup\u001b[0m \u001b[1;33m=\u001b[0m \u001b[0mBeautifulSoup\u001b[0m\u001b[1;33m(\u001b[0m\u001b[0mplain_text\u001b[0m\u001b[1;33m)\u001b[0m\u001b[1;33m\u001b[0m\u001b[0m\n",
      "\u001b[1;32m~\\Anaconda3\\lib\\site-packages\\requests\\api.py\u001b[0m in \u001b[0;36mget\u001b[1;34m(url, params, **kwargs)\u001b[0m\n\u001b[0;32m     70\u001b[0m \u001b[1;33m\u001b[0m\u001b[0m\n\u001b[0;32m     71\u001b[0m     \u001b[0mkwargs\u001b[0m\u001b[1;33m.\u001b[0m\u001b[0msetdefault\u001b[0m\u001b[1;33m(\u001b[0m\u001b[1;34m'allow_redirects'\u001b[0m\u001b[1;33m,\u001b[0m \u001b[1;32mTrue\u001b[0m\u001b[1;33m)\u001b[0m\u001b[1;33m\u001b[0m\u001b[0m\n\u001b[1;32m---> 72\u001b[1;33m     \u001b[1;32mreturn\u001b[0m \u001b[0mrequest\u001b[0m\u001b[1;33m(\u001b[0m\u001b[1;34m'get'\u001b[0m\u001b[1;33m,\u001b[0m \u001b[0murl\u001b[0m\u001b[1;33m,\u001b[0m \u001b[0mparams\u001b[0m\u001b[1;33m=\u001b[0m\u001b[0mparams\u001b[0m\u001b[1;33m,\u001b[0m \u001b[1;33m**\u001b[0m\u001b[0mkwargs\u001b[0m\u001b[1;33m)\u001b[0m\u001b[1;33m\u001b[0m\u001b[0m\n\u001b[0m\u001b[0;32m     73\u001b[0m \u001b[1;33m\u001b[0m\u001b[0m\n\u001b[0;32m     74\u001b[0m \u001b[1;33m\u001b[0m\u001b[0m\n",
      "\u001b[1;32m~\\Anaconda3\\lib\\site-packages\\requests\\api.py\u001b[0m in \u001b[0;36mrequest\u001b[1;34m(method, url, **kwargs)\u001b[0m\n\u001b[0;32m     56\u001b[0m     \u001b[1;31m# cases, and look like a memory leak in others.\u001b[0m\u001b[1;33m\u001b[0m\u001b[1;33m\u001b[0m\u001b[0m\n\u001b[0;32m     57\u001b[0m     \u001b[1;32mwith\u001b[0m \u001b[0msessions\u001b[0m\u001b[1;33m.\u001b[0m\u001b[0mSession\u001b[0m\u001b[1;33m(\u001b[0m\u001b[1;33m)\u001b[0m \u001b[1;32mas\u001b[0m \u001b[0msession\u001b[0m\u001b[1;33m:\u001b[0m\u001b[1;33m\u001b[0m\u001b[0m\n\u001b[1;32m---> 58\u001b[1;33m         \u001b[1;32mreturn\u001b[0m \u001b[0msession\u001b[0m\u001b[1;33m.\u001b[0m\u001b[0mrequest\u001b[0m\u001b[1;33m(\u001b[0m\u001b[0mmethod\u001b[0m\u001b[1;33m=\u001b[0m\u001b[0mmethod\u001b[0m\u001b[1;33m,\u001b[0m \u001b[0murl\u001b[0m\u001b[1;33m=\u001b[0m\u001b[0murl\u001b[0m\u001b[1;33m,\u001b[0m \u001b[1;33m**\u001b[0m\u001b[0mkwargs\u001b[0m\u001b[1;33m)\u001b[0m\u001b[1;33m\u001b[0m\u001b[0m\n\u001b[0m\u001b[0;32m     59\u001b[0m \u001b[1;33m\u001b[0m\u001b[0m\n\u001b[0;32m     60\u001b[0m \u001b[1;33m\u001b[0m\u001b[0m\n",
      "\u001b[1;32m~\\Anaconda3\\lib\\site-packages\\requests\\sessions.py\u001b[0m in \u001b[0;36mrequest\u001b[1;34m(self, method, url, params, data, headers, cookies, files, auth, timeout, allow_redirects, proxies, hooks, stream, verify, cert, json)\u001b[0m\n\u001b[0;32m    506\u001b[0m         }\n\u001b[0;32m    507\u001b[0m         \u001b[0msend_kwargs\u001b[0m\u001b[1;33m.\u001b[0m\u001b[0mupdate\u001b[0m\u001b[1;33m(\u001b[0m\u001b[0msettings\u001b[0m\u001b[1;33m)\u001b[0m\u001b[1;33m\u001b[0m\u001b[0m\n\u001b[1;32m--> 508\u001b[1;33m         \u001b[0mresp\u001b[0m \u001b[1;33m=\u001b[0m \u001b[0mself\u001b[0m\u001b[1;33m.\u001b[0m\u001b[0msend\u001b[0m\u001b[1;33m(\u001b[0m\u001b[0mprep\u001b[0m\u001b[1;33m,\u001b[0m \u001b[1;33m**\u001b[0m\u001b[0msend_kwargs\u001b[0m\u001b[1;33m)\u001b[0m\u001b[1;33m\u001b[0m\u001b[0m\n\u001b[0m\u001b[0;32m    509\u001b[0m \u001b[1;33m\u001b[0m\u001b[0m\n\u001b[0;32m    510\u001b[0m         \u001b[1;32mreturn\u001b[0m \u001b[0mresp\u001b[0m\u001b[1;33m\u001b[0m\u001b[0m\n",
      "\u001b[1;32m~\\Anaconda3\\lib\\site-packages\\requests\\sessions.py\u001b[0m in \u001b[0;36msend\u001b[1;34m(self, request, **kwargs)\u001b[0m\n\u001b[0;32m    616\u001b[0m \u001b[1;33m\u001b[0m\u001b[0m\n\u001b[0;32m    617\u001b[0m         \u001b[1;31m# Send the request\u001b[0m\u001b[1;33m\u001b[0m\u001b[1;33m\u001b[0m\u001b[0m\n\u001b[1;32m--> 618\u001b[1;33m         \u001b[0mr\u001b[0m \u001b[1;33m=\u001b[0m \u001b[0madapter\u001b[0m\u001b[1;33m.\u001b[0m\u001b[0msend\u001b[0m\u001b[1;33m(\u001b[0m\u001b[0mrequest\u001b[0m\u001b[1;33m,\u001b[0m \u001b[1;33m**\u001b[0m\u001b[0mkwargs\u001b[0m\u001b[1;33m)\u001b[0m\u001b[1;33m\u001b[0m\u001b[0m\n\u001b[0m\u001b[0;32m    619\u001b[0m \u001b[1;33m\u001b[0m\u001b[0m\n\u001b[0;32m    620\u001b[0m         \u001b[1;31m# Total elapsed time of the request (approximately)\u001b[0m\u001b[1;33m\u001b[0m\u001b[1;33m\u001b[0m\u001b[0m\n",
      "\u001b[1;32m~\\Anaconda3\\lib\\site-packages\\requests\\adapters.py\u001b[0m in \u001b[0;36msend\u001b[1;34m(self, request, stream, timeout, verify, cert, proxies)\u001b[0m\n\u001b[0;32m    438\u001b[0m                     \u001b[0mdecode_content\u001b[0m\u001b[1;33m=\u001b[0m\u001b[1;32mFalse\u001b[0m\u001b[1;33m,\u001b[0m\u001b[1;33m\u001b[0m\u001b[0m\n\u001b[0;32m    439\u001b[0m                     \u001b[0mretries\u001b[0m\u001b[1;33m=\u001b[0m\u001b[0mself\u001b[0m\u001b[1;33m.\u001b[0m\u001b[0mmax_retries\u001b[0m\u001b[1;33m,\u001b[0m\u001b[1;33m\u001b[0m\u001b[0m\n\u001b[1;32m--> 440\u001b[1;33m                     \u001b[0mtimeout\u001b[0m\u001b[1;33m=\u001b[0m\u001b[0mtimeout\u001b[0m\u001b[1;33m\u001b[0m\u001b[0m\n\u001b[0m\u001b[0;32m    441\u001b[0m                 )\n\u001b[0;32m    442\u001b[0m \u001b[1;33m\u001b[0m\u001b[0m\n",
      "\u001b[1;32m~\\Anaconda3\\lib\\site-packages\\urllib3\\connectionpool.py\u001b[0m in \u001b[0;36murlopen\u001b[1;34m(self, method, url, body, headers, retries, redirect, assert_same_host, timeout, pool_timeout, release_conn, chunked, body_pos, **response_kw)\u001b[0m\n\u001b[0;32m    599\u001b[0m                                                   \u001b[0mtimeout\u001b[0m\u001b[1;33m=\u001b[0m\u001b[0mtimeout_obj\u001b[0m\u001b[1;33m,\u001b[0m\u001b[1;33m\u001b[0m\u001b[0m\n\u001b[0;32m    600\u001b[0m                                                   \u001b[0mbody\u001b[0m\u001b[1;33m=\u001b[0m\u001b[0mbody\u001b[0m\u001b[1;33m,\u001b[0m \u001b[0mheaders\u001b[0m\u001b[1;33m=\u001b[0m\u001b[0mheaders\u001b[0m\u001b[1;33m,\u001b[0m\u001b[1;33m\u001b[0m\u001b[0m\n\u001b[1;32m--> 601\u001b[1;33m                                                   chunked=chunked)\n\u001b[0m\u001b[0;32m    602\u001b[0m \u001b[1;33m\u001b[0m\u001b[0m\n\u001b[0;32m    603\u001b[0m             \u001b[1;31m# If we're going to release the connection in ``finally:``, then\u001b[0m\u001b[1;33m\u001b[0m\u001b[1;33m\u001b[0m\u001b[0m\n",
      "\u001b[1;32m~\\Anaconda3\\lib\\site-packages\\urllib3\\connectionpool.py\u001b[0m in \u001b[0;36m_make_request\u001b[1;34m(self, conn, method, url, timeout, chunked, **httplib_request_kw)\u001b[0m\n\u001b[0;32m    381\u001b[0m             \u001b[1;32mexcept\u001b[0m \u001b[0mTypeError\u001b[0m\u001b[1;33m:\u001b[0m  \u001b[1;31m# Python 2.6 and older, Python 3\u001b[0m\u001b[1;33m\u001b[0m\u001b[0m\n\u001b[0;32m    382\u001b[0m                 \u001b[1;32mtry\u001b[0m\u001b[1;33m:\u001b[0m\u001b[1;33m\u001b[0m\u001b[0m\n\u001b[1;32m--> 383\u001b[1;33m                     \u001b[0mhttplib_response\u001b[0m \u001b[1;33m=\u001b[0m \u001b[0mconn\u001b[0m\u001b[1;33m.\u001b[0m\u001b[0mgetresponse\u001b[0m\u001b[1;33m(\u001b[0m\u001b[1;33m)\u001b[0m\u001b[1;33m\u001b[0m\u001b[0m\n\u001b[0m\u001b[0;32m    384\u001b[0m                 \u001b[1;32mexcept\u001b[0m \u001b[0mException\u001b[0m \u001b[1;32mas\u001b[0m \u001b[0me\u001b[0m\u001b[1;33m:\u001b[0m\u001b[1;33m\u001b[0m\u001b[0m\n\u001b[0;32m    385\u001b[0m                     \u001b[1;31m# Remove the TypeError from the exception chain in Python 3;\u001b[0m\u001b[1;33m\u001b[0m\u001b[1;33m\u001b[0m\u001b[0m\n",
      "\u001b[1;32m~\\Anaconda3\\lib\\http\\client.py\u001b[0m in \u001b[0;36mgetresponse\u001b[1;34m(self)\u001b[0m\n\u001b[0;32m   1329\u001b[0m         \u001b[1;32mtry\u001b[0m\u001b[1;33m:\u001b[0m\u001b[1;33m\u001b[0m\u001b[0m\n\u001b[0;32m   1330\u001b[0m             \u001b[1;32mtry\u001b[0m\u001b[1;33m:\u001b[0m\u001b[1;33m\u001b[0m\u001b[0m\n\u001b[1;32m-> 1331\u001b[1;33m                 \u001b[0mresponse\u001b[0m\u001b[1;33m.\u001b[0m\u001b[0mbegin\u001b[0m\u001b[1;33m(\u001b[0m\u001b[1;33m)\u001b[0m\u001b[1;33m\u001b[0m\u001b[0m\n\u001b[0m\u001b[0;32m   1332\u001b[0m             \u001b[1;32mexcept\u001b[0m \u001b[0mConnectionError\u001b[0m\u001b[1;33m:\u001b[0m\u001b[1;33m\u001b[0m\u001b[0m\n\u001b[0;32m   1333\u001b[0m                 \u001b[0mself\u001b[0m\u001b[1;33m.\u001b[0m\u001b[0mclose\u001b[0m\u001b[1;33m(\u001b[0m\u001b[1;33m)\u001b[0m\u001b[1;33m\u001b[0m\u001b[0m\n",
      "\u001b[1;32m~\\Anaconda3\\lib\\http\\client.py\u001b[0m in \u001b[0;36mbegin\u001b[1;34m(self)\u001b[0m\n\u001b[0;32m    295\u001b[0m         \u001b[1;31m# read until we get a non-100 response\u001b[0m\u001b[1;33m\u001b[0m\u001b[1;33m\u001b[0m\u001b[0m\n\u001b[0;32m    296\u001b[0m         \u001b[1;32mwhile\u001b[0m \u001b[1;32mTrue\u001b[0m\u001b[1;33m:\u001b[0m\u001b[1;33m\u001b[0m\u001b[0m\n\u001b[1;32m--> 297\u001b[1;33m             \u001b[0mversion\u001b[0m\u001b[1;33m,\u001b[0m \u001b[0mstatus\u001b[0m\u001b[1;33m,\u001b[0m \u001b[0mreason\u001b[0m \u001b[1;33m=\u001b[0m \u001b[0mself\u001b[0m\u001b[1;33m.\u001b[0m\u001b[0m_read_status\u001b[0m\u001b[1;33m(\u001b[0m\u001b[1;33m)\u001b[0m\u001b[1;33m\u001b[0m\u001b[0m\n\u001b[0m\u001b[0;32m    298\u001b[0m             \u001b[1;32mif\u001b[0m \u001b[0mstatus\u001b[0m \u001b[1;33m!=\u001b[0m \u001b[0mCONTINUE\u001b[0m\u001b[1;33m:\u001b[0m\u001b[1;33m\u001b[0m\u001b[0m\n\u001b[0;32m    299\u001b[0m                 \u001b[1;32mbreak\u001b[0m\u001b[1;33m\u001b[0m\u001b[0m\n",
      "\u001b[1;32m~\\Anaconda3\\lib\\http\\client.py\u001b[0m in \u001b[0;36m_read_status\u001b[1;34m(self)\u001b[0m\n\u001b[0;32m    256\u001b[0m \u001b[1;33m\u001b[0m\u001b[0m\n\u001b[0;32m    257\u001b[0m     \u001b[1;32mdef\u001b[0m \u001b[0m_read_status\u001b[0m\u001b[1;33m(\u001b[0m\u001b[0mself\u001b[0m\u001b[1;33m)\u001b[0m\u001b[1;33m:\u001b[0m\u001b[1;33m\u001b[0m\u001b[0m\n\u001b[1;32m--> 258\u001b[1;33m         \u001b[0mline\u001b[0m \u001b[1;33m=\u001b[0m \u001b[0mstr\u001b[0m\u001b[1;33m(\u001b[0m\u001b[0mself\u001b[0m\u001b[1;33m.\u001b[0m\u001b[0mfp\u001b[0m\u001b[1;33m.\u001b[0m\u001b[0mreadline\u001b[0m\u001b[1;33m(\u001b[0m\u001b[0m_MAXLINE\u001b[0m \u001b[1;33m+\u001b[0m \u001b[1;36m1\u001b[0m\u001b[1;33m)\u001b[0m\u001b[1;33m,\u001b[0m \u001b[1;34m\"iso-8859-1\"\u001b[0m\u001b[1;33m)\u001b[0m\u001b[1;33m\u001b[0m\u001b[0m\n\u001b[0m\u001b[0;32m    259\u001b[0m         \u001b[1;32mif\u001b[0m \u001b[0mlen\u001b[0m\u001b[1;33m(\u001b[0m\u001b[0mline\u001b[0m\u001b[1;33m)\u001b[0m \u001b[1;33m>\u001b[0m \u001b[0m_MAXLINE\u001b[0m\u001b[1;33m:\u001b[0m\u001b[1;33m\u001b[0m\u001b[0m\n\u001b[0;32m    260\u001b[0m             \u001b[1;32mraise\u001b[0m \u001b[0mLineTooLong\u001b[0m\u001b[1;33m(\u001b[0m\u001b[1;34m\"status line\"\u001b[0m\u001b[1;33m)\u001b[0m\u001b[1;33m\u001b[0m\u001b[0m\n",
      "\u001b[1;32m~\\Anaconda3\\lib\\socket.py\u001b[0m in \u001b[0;36mreadinto\u001b[1;34m(self, b)\u001b[0m\n\u001b[0;32m    584\u001b[0m         \u001b[1;32mwhile\u001b[0m \u001b[1;32mTrue\u001b[0m\u001b[1;33m:\u001b[0m\u001b[1;33m\u001b[0m\u001b[0m\n\u001b[0;32m    585\u001b[0m             \u001b[1;32mtry\u001b[0m\u001b[1;33m:\u001b[0m\u001b[1;33m\u001b[0m\u001b[0m\n\u001b[1;32m--> 586\u001b[1;33m                 \u001b[1;32mreturn\u001b[0m \u001b[0mself\u001b[0m\u001b[1;33m.\u001b[0m\u001b[0m_sock\u001b[0m\u001b[1;33m.\u001b[0m\u001b[0mrecv_into\u001b[0m\u001b[1;33m(\u001b[0m\u001b[0mb\u001b[0m\u001b[1;33m)\u001b[0m\u001b[1;33m\u001b[0m\u001b[0m\n\u001b[0m\u001b[0;32m    587\u001b[0m             \u001b[1;32mexcept\u001b[0m \u001b[0mtimeout\u001b[0m\u001b[1;33m:\u001b[0m\u001b[1;33m\u001b[0m\u001b[0m\n\u001b[0;32m    588\u001b[0m                 \u001b[0mself\u001b[0m\u001b[1;33m.\u001b[0m\u001b[0m_timeout_occurred\u001b[0m \u001b[1;33m=\u001b[0m \u001b[1;32mTrue\u001b[0m\u001b[1;33m\u001b[0m\u001b[0m\n",
      "\u001b[1;32m~\\Anaconda3\\lib\\site-packages\\urllib3\\contrib\\pyopenssl.py\u001b[0m in \u001b[0;36mrecv_into\u001b[1;34m(self, *args, **kwargs)\u001b[0m\n\u001b[0;32m    278\u001b[0m     \u001b[1;32mdef\u001b[0m \u001b[0mrecv_into\u001b[0m\u001b[1;33m(\u001b[0m\u001b[0mself\u001b[0m\u001b[1;33m,\u001b[0m \u001b[1;33m*\u001b[0m\u001b[0margs\u001b[0m\u001b[1;33m,\u001b[0m \u001b[1;33m**\u001b[0m\u001b[0mkwargs\u001b[0m\u001b[1;33m)\u001b[0m\u001b[1;33m:\u001b[0m\u001b[1;33m\u001b[0m\u001b[0m\n\u001b[0;32m    279\u001b[0m         \u001b[1;32mtry\u001b[0m\u001b[1;33m:\u001b[0m\u001b[1;33m\u001b[0m\u001b[0m\n\u001b[1;32m--> 280\u001b[1;33m             \u001b[1;32mreturn\u001b[0m \u001b[0mself\u001b[0m\u001b[1;33m.\u001b[0m\u001b[0mconnection\u001b[0m\u001b[1;33m.\u001b[0m\u001b[0mrecv_into\u001b[0m\u001b[1;33m(\u001b[0m\u001b[1;33m*\u001b[0m\u001b[0margs\u001b[0m\u001b[1;33m,\u001b[0m \u001b[1;33m**\u001b[0m\u001b[0mkwargs\u001b[0m\u001b[1;33m)\u001b[0m\u001b[1;33m\u001b[0m\u001b[0m\n\u001b[0m\u001b[0;32m    281\u001b[0m         \u001b[1;32mexcept\u001b[0m \u001b[0mOpenSSL\u001b[0m\u001b[1;33m.\u001b[0m\u001b[0mSSL\u001b[0m\u001b[1;33m.\u001b[0m\u001b[0mSysCallError\u001b[0m \u001b[1;32mas\u001b[0m \u001b[0me\u001b[0m\u001b[1;33m:\u001b[0m\u001b[1;33m\u001b[0m\u001b[0m\n\u001b[0;32m    282\u001b[0m             \u001b[1;32mif\u001b[0m \u001b[0mself\u001b[0m\u001b[1;33m.\u001b[0m\u001b[0msuppress_ragged_eofs\u001b[0m \u001b[1;32mand\u001b[0m \u001b[0me\u001b[0m\u001b[1;33m.\u001b[0m\u001b[0margs\u001b[0m \u001b[1;33m==\u001b[0m \u001b[1;33m(\u001b[0m\u001b[1;33m-\u001b[0m\u001b[1;36m1\u001b[0m\u001b[1;33m,\u001b[0m \u001b[1;34m'Unexpected EOF'\u001b[0m\u001b[1;33m)\u001b[0m\u001b[1;33m:\u001b[0m\u001b[1;33m\u001b[0m\u001b[0m\n",
      "\u001b[1;32m~\\Anaconda3\\lib\\site-packages\\OpenSSL\\SSL.py\u001b[0m in \u001b[0;36mrecv_into\u001b[1;34m(self, buffer, nbytes, flags)\u001b[0m\n\u001b[0;32m   1712\u001b[0m             \u001b[0mresult\u001b[0m \u001b[1;33m=\u001b[0m \u001b[0m_lib\u001b[0m\u001b[1;33m.\u001b[0m\u001b[0mSSL_peek\u001b[0m\u001b[1;33m(\u001b[0m\u001b[0mself\u001b[0m\u001b[1;33m.\u001b[0m\u001b[0m_ssl\u001b[0m\u001b[1;33m,\u001b[0m \u001b[0mbuf\u001b[0m\u001b[1;33m,\u001b[0m \u001b[0mnbytes\u001b[0m\u001b[1;33m)\u001b[0m\u001b[1;33m\u001b[0m\u001b[0m\n\u001b[0;32m   1713\u001b[0m         \u001b[1;32melse\u001b[0m\u001b[1;33m:\u001b[0m\u001b[1;33m\u001b[0m\u001b[0m\n\u001b[1;32m-> 1714\u001b[1;33m             \u001b[0mresult\u001b[0m \u001b[1;33m=\u001b[0m \u001b[0m_lib\u001b[0m\u001b[1;33m.\u001b[0m\u001b[0mSSL_read\u001b[0m\u001b[1;33m(\u001b[0m\u001b[0mself\u001b[0m\u001b[1;33m.\u001b[0m\u001b[0m_ssl\u001b[0m\u001b[1;33m,\u001b[0m \u001b[0mbuf\u001b[0m\u001b[1;33m,\u001b[0m \u001b[0mnbytes\u001b[0m\u001b[1;33m)\u001b[0m\u001b[1;33m\u001b[0m\u001b[0m\n\u001b[0m\u001b[0;32m   1715\u001b[0m         \u001b[0mself\u001b[0m\u001b[1;33m.\u001b[0m\u001b[0m_raise_ssl_error\u001b[0m\u001b[1;33m(\u001b[0m\u001b[0mself\u001b[0m\u001b[1;33m.\u001b[0m\u001b[0m_ssl\u001b[0m\u001b[1;33m,\u001b[0m \u001b[0mresult\u001b[0m\u001b[1;33m)\u001b[0m\u001b[1;33m\u001b[0m\u001b[0m\n\u001b[0;32m   1716\u001b[0m \u001b[1;33m\u001b[0m\u001b[0m\n",
      "\u001b[1;31mKeyboardInterrupt\u001b[0m: "
     ]
    }
   ],
   "source": [
    "# 5/11/18\n",
    "# Web crawler\n",
    "\n",
    "import requests\n",
    "from bs4 import BeautifulSoup         # download bs4 package to use functions from BeautifulSoup class\n",
    "\n",
    "def spyder(max_pages):             \n",
    "    page = 1                  # page 1 of the website\n",
    "    while page <= max_pages:               \n",
    "        url = 'https://www.ebay.com/sch/i.html?_from=R40&_nkw=southpole&_pgn=' + str(page) + '&_skc=25&rt=nc' #dynamically give page numbers in for the url\n",
    "        source_code = requests.get(url)  # get source code of the website from the url\n",
    "        plain_text = source_code.text   # convert source code to simple text to use it for searching key words\n",
    "        soup = BeautifulSoup(plain_text) # apply BeautifulSoup function for the plain_text so that the keywords can be searched\n",
    "        for link in soup.findAll('a', {'class': 'vip'}): # for all links in soup find all the html links (a=anchor/link) with class name as vip\n",
    "            href = link.get('href')     # get the link linked to href\n",
    "            print(href)   # print the link linked to href\n",
    "            getdata(href)  # aplly href parameter to getdata function\n",
    "            \n",
    "\n",
    "def getdata(item_url):     \n",
    "    source_code = requests.get(item_url)      # get source code of the href url from previous function\n",
    "    plain_text = source_code.text             # convert it to text file \n",
    "    soup = BeautifulSoup(plain_text)           # apply BeautifulSoup function\n",
    "    for item_name in soup.findAll('span', {'class':'mbg-nw'}):  # for all the item_name in soup find all the data with class name as mbg-nw \n",
    "        print(item_name.string) # print the item_name string(in this case the account holder name)\n",
    "        \n",
    "            \n",
    "            \n",
    "            \n",
    "spyder(1)"
   ]
  },
  {
   "cell_type": "code",
   "execution_count": null,
   "metadata": {},
   "outputs": [],
   "source": []
  }
 ],
 "metadata": {
  "kernelspec": {
   "display_name": "Python 3",
   "language": "python",
   "name": "python3"
  },
  "language_info": {
   "codemirror_mode": {
    "name": "ipython",
    "version": 3
   },
   "file_extension": ".py",
   "mimetype": "text/x-python",
   "name": "python",
   "nbconvert_exporter": "python",
   "pygments_lexer": "ipython3",
   "version": "3.6.4"
  }
 },
 "nbformat": 4,
 "nbformat_minor": 2
}
