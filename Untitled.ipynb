{
 "cells": [
  {
   "cell_type": "code",
   "execution_count": 9,
   "metadata": {},
   "outputs": [
    {
     "name": "stdout",
     "output_type": "stream",
     "text": [
      "18\n"
     ]
    }
   ],
   "source": [
    "numbers = [12,14,18,15,17]\n",
    "print(numbers[2])\n"
   ]
  },
  {
   "cell_type": "code",
   "execution_count": 15,
   "metadata": {},
   "outputs": [
    {
     "name": "stdout",
     "output_type": "stream",
     "text": [
      "[12, 14, 18, 15, 17, 12, 14, 18, 12, 14, 18, 15, 12, 14, 18, 15, 12, 14, 18, 15]\n"
     ]
    }
   ],
   "source": [
    "numbers = numbers+numbers[:4]\n",
    "print(numbers)\n"
   ]
  },
  {
   "cell_type": "code",
   "execution_count": 26,
   "metadata": {},
   "outputs": [
    {
     "name": "stdout",
     "output_type": "stream",
     "text": [
      "24\n"
     ]
    }
   ],
   "source": [
    "def mult(*several):\n",
    "    count = 1\n",
    "    for x in several:\n",
    "        count = count * x\n",
    "    print(count)\n",
    "\n",
    "mult(2, 4, 3)"
   ]
  },
  {
   "cell_type": "code",
   "execution_count": 29,
   "metadata": {},
   "outputs": [
    {
     "name": "stdout",
     "output_type": "stream",
     "text": [
      "92.0\n",
      "92.0\n"
     ]
    }
   ],
   "source": [
    "def calc(age, excercise, junk):\n",
    "    health = (100-age)+(2*excercise)-(0.1*junk)\n",
    "    print(health)\n",
    "    \n",
    "Rishi = [28, 30, 400]\n",
    "\n",
    "calc(Rishi[0],Rishi[1],Rishi[2])\n",
    "\n",
    "calc(*Rishi)\n",
    "    "
   ]
  },
  {
   "cell_type": "code",
   "execution_count": 1,
   "metadata": {},
   "outputs": [
    {
     "data": {
      "text/plain": [
       "<matplotlib.figure.Figure at 0x13bfa1141d0>"
      ]
     },
     "metadata": {},
     "output_type": "display_data"
    }
   ],
   "source": [
    "import random\n",
    "import urllib.request\n",
    "import matplotlib.pyplot as plt\n",
    "import matplotlib.image as mpimg\n",
    "\n",
    "\n",
    "def downloadinganimage(url):\n",
    "    name = random.randrange(1, 100)\n",
    "    fullname = str(name) + \".jpg\"\n",
    "    urllib.request.urlretrieve(url, fullname)\n",
    "    img = mpimg.imread(fullname)\n",
    "    imgplot = plt.imshow(img)\n",
    "    plt.show()\n",
    "\n",
    "    \n",
    "downloadinganimage(\"data:image/jpeg;base64,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\")"
   ]
  },
  {
   "cell_type": "code",
   "execution_count": 15,
   "metadata": {},
   "outputs": [],
   "source": [
    "from urllib import request\n",
    "\n",
    "\n",
    "url = 'http://samplecsvs.s3.amazonaws.com/Sacramentorealestatetransactions.csv'\n",
    "\n",
    "def downloadurl(csv_url):\n",
    "    response = request.urlopen(csv_url)\n",
    "    \n",
    "    csv = response.read()\n",
    "    csv_str = str(csv)\n",
    "    \n",
    "    lines = csv_str.split(\" \")\n",
    "    dest_url = r'url.txt'\n",
    "    \n",
    "    fx = open(dest_url, \"w\")\n",
    "    for line in lines:\n",
    "        fx.write(line + \"\\n\")\n",
    "    fx.close()\n",
    "    \n",
    "downloadurl(url)\n",
    "        \n"
   ]
  },
  {
   "cell_type": "code",
   "execution_count": null,
   "metadata": {},
   "outputs": [],
   "source": []
  }
 ],
 "metadata": {
  "kernelspec": {
   "display_name": "Python 3",
   "language": "python",
   "name": "python3"
  },
  "language_info": {
   "codemirror_mode": {
    "name": "ipython",
    "version": 3
   },
   "file_extension": ".py",
   "mimetype": "text/x-python",
   "name": "python",
   "nbconvert_exporter": "python",
   "pygments_lexer": "ipython3",
   "version": "3.6.4"
  }
 },
 "nbformat": 4,
 "nbformat_minor": 2
}
